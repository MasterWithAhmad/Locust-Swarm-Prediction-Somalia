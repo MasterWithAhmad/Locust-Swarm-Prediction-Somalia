{
 "cells": [
  {
   "cell_type": "markdown",
   "id": "d9ca152c",
   "metadata": {},
   "source": [
    "# Exploratory Data Analysis (EDA) - Locust Prediction in Somalia"
   ]
  },
  {
   "cell_type": "markdown",
   "id": "118427ed",
   "metadata": {},
   "source": [
    "## 1. Data Understanding"
   ]
  },
  {
   "cell_type": "markdown",
   "id": "5d72b520",
   "metadata": {},
   "source": [
    "### 1.1 Load and Inspect the Dataset"
   ]
  },
  {
   "cell_type": "code",
   "execution_count": 2,
   "id": "19e66e13",
   "metadata": {},
   "outputs": [
    {
     "data": {
      "text/html": [
       "<div>\n",
       "<style scoped>\n",
       "    .dataframe tbody tr th:only-of-type {\n",
       "        vertical-align: middle;\n",
       "    }\n",
       "\n",
       "    .dataframe tbody tr th {\n",
       "        vertical-align: top;\n",
       "    }\n",
       "\n",
       "    .dataframe thead th {\n",
       "        text-align: right;\n",
       "    }\n",
       "</style>\n",
       "<table border=\"1\" class=\"dataframe\">\n",
       "  <thead>\n",
       "    <tr style=\"text-align: right;\">\n",
       "      <th></th>\n",
       "      <th>REGION</th>\n",
       "      <th>COUNTRYNAME</th>\n",
       "      <th>STARTYEAR</th>\n",
       "      <th>STARTMONTH</th>\n",
       "      <th>PPT</th>\n",
       "      <th>TMAX</th>\n",
       "      <th>SOILMOISTURE</th>\n",
       "      <th>LOCUSTPRESENT</th>\n",
       "    </tr>\n",
       "  </thead>\n",
       "  <tbody>\n",
       "    <tr>\n",
       "      <th>0</th>\n",
       "      <td>Trarza</td>\n",
       "      <td>Mauritania</td>\n",
       "      <td>1985</td>\n",
       "      <td>1</td>\n",
       "      <td>0.0</td>\n",
       "      <td>27.55</td>\n",
       "      <td>0.0</td>\n",
       "      <td>no</td>\n",
       "    </tr>\n",
       "    <tr>\n",
       "      <th>1</th>\n",
       "      <td>Brakna</td>\n",
       "      <td>Mauritania</td>\n",
       "      <td>1985</td>\n",
       "      <td>1</td>\n",
       "      <td>0.6</td>\n",
       "      <td>28.00</td>\n",
       "      <td>0.0</td>\n",
       "      <td>no</td>\n",
       "    </tr>\n",
       "    <tr>\n",
       "      <th>2</th>\n",
       "      <td>Tagant</td>\n",
       "      <td>Mauritania</td>\n",
       "      <td>1985</td>\n",
       "      <td>1</td>\n",
       "      <td>0.0</td>\n",
       "      <td>26.81</td>\n",
       "      <td>0.0</td>\n",
       "      <td>no</td>\n",
       "    </tr>\n",
       "    <tr>\n",
       "      <th>3</th>\n",
       "      <td>Makkah Region</td>\n",
       "      <td>Saudi Arabia</td>\n",
       "      <td>1985</td>\n",
       "      <td>1</td>\n",
       "      <td>34.9</td>\n",
       "      <td>32.04</td>\n",
       "      <td>0.1</td>\n",
       "      <td>no</td>\n",
       "    </tr>\n",
       "    <tr>\n",
       "      <th>4</th>\n",
       "      <td>Gorgol</td>\n",
       "      <td>Mauritania</td>\n",
       "      <td>1985</td>\n",
       "      <td>1</td>\n",
       "      <td>0.8</td>\n",
       "      <td>31.17</td>\n",
       "      <td>0.1</td>\n",
       "      <td>no</td>\n",
       "    </tr>\n",
       "  </tbody>\n",
       "</table>\n",
       "</div>"
      ],
      "text/plain": [
       "          REGION    COUNTRYNAME  STARTYEAR  STARTMONTH   PPT   TMAX  \\\n",
       "0         Trarza     Mauritania       1985           1   0.0  27.55   \n",
       "1         Brakna     Mauritania       1985           1   0.6  28.00   \n",
       "2         Tagant     Mauritania       1985           1   0.0  26.81   \n",
       "3  Makkah Region   Saudi Arabia       1985           1  34.9  32.04   \n",
       "4         Gorgol     Mauritania       1985           1   0.8  31.17   \n",
       "\n",
       "   SOILMOISTURE LOCUSTPRESENT  \n",
       "0           0.0            no  \n",
       "1           0.0            no  \n",
       "2           0.0            no  \n",
       "3           0.1            no  \n",
       "4           0.1            no  "
      ]
     },
     "execution_count": 2,
     "metadata": {},
     "output_type": "execute_result"
    }
   ],
   "source": [
    "import pandas as pd\n",
    "\n",
    "# Load dataset\n",
    "df = pd.read_csv('../data/locust_dataset.csv')\n",
    "\n",
    "# Display first five rows\n",
    "df.head()"
   ]
  },
  {
   "cell_type": "markdown",
   "id": "dcbf1c0c",
   "metadata": {},
   "source": [
    "#### Insight:\n",
    "- The dataset contains locust presence records along with climate variables.\n",
    "- We will filter data specific to **Somalia** for localized analysis."
   ]
  },
  {
   "cell_type": "markdown",
   "id": "01c27a05",
   "metadata": {},
   "source": [
    "### 1.2 Filter Data for Somalia"
   ]
  },
  {
   "cell_type": "code",
   "execution_count": 33,
   "id": "a52a3ef8",
   "metadata": {},
   "outputs": [
    {
     "data": {
      "text/plain": [
       "((4393, 8),\n",
       "               REGION COUNTRYNAME  STARTYEAR  STARTMONTH  PPT   TMAX  \\\n",
       " 12   Woqooyi Galbeed  Somaliland       1985           1  1.4  29.37   \n",
       " 195           Sanaag  Somaliland       1985           1  0.1  32.88   \n",
       " 228         Togdheer  Somaliland       1985           1  0.9  25.47   \n",
       " 229             Sool  Somaliland       1985           1  0.0  30.28   \n",
       " 257             Gedo  Somaliland       1985           1  0.7  39.55   \n",
       " \n",
       "      SOILMOISTURE LOCUSTPRESENT  \n",
       " 12            0.1            no  \n",
       " 195           0.1            no  \n",
       " 228           0.0            no  \n",
       " 229           0.1            no  \n",
       " 257           1.4            no  )"
      ]
     },
     "execution_count": 33,
     "metadata": {},
     "output_type": "execute_result"
    }
   ],
   "source": [
    "# Filter only Somalia data\n",
    "df_somalia = df[df['COUNTRYNAME'] == 'Somaliland'].copy()\n",
    "df['COUNTRYNAME']=df['COUNTRYNAME'].str.strip()\n",
    "somalia_df = df[df['COUNTRYNAME']=='Somaliland']\n",
    "\n",
    "somalia_df.head()\n",
    "# Display dataset shape and first few rows\n",
    "df_somalia.shape, df_somalia.head()"
   ]
  },
  {
   "cell_type": "markdown",
   "id": "090aa1a3",
   "metadata": {},
   "source": [
    "#### Insight:\n",
    "- Only rows related to Somalia are retained.\n",
    "- This ensures that our analysis and model predictions are relevant to the country."
   ]
  },
  {
   "cell_type": "markdown",
   "id": "26ff9486",
   "metadata": {},
   "source": [
    "## 2. Data Exploration"
   ]
  },
  {
   "cell_type": "markdown",
   "id": "64d510be",
   "metadata": {},
   "source": [
    "### 2.1 Statistical Summary"
   ]
  },
  {
   "cell_type": "code",
   "execution_count": 35,
   "id": "97e04f4c",
   "metadata": {},
   "outputs": [
    {
     "data": {
      "text/html": [
       "<div>\n",
       "<style scoped>\n",
       "    .dataframe tbody tr th:only-of-type {\n",
       "        vertical-align: middle;\n",
       "    }\n",
       "\n",
       "    .dataframe tbody tr th {\n",
       "        vertical-align: top;\n",
       "    }\n",
       "\n",
       "    .dataframe thead th {\n",
       "        text-align: right;\n",
       "    }\n",
       "</style>\n",
       "<table border=\"1\" class=\"dataframe\">\n",
       "  <thead>\n",
       "    <tr style=\"text-align: right;\">\n",
       "      <th></th>\n",
       "      <th>STARTYEAR</th>\n",
       "      <th>STARTMONTH</th>\n",
       "      <th>PPT</th>\n",
       "      <th>TMAX</th>\n",
       "      <th>SOILMOISTURE</th>\n",
       "    </tr>\n",
       "  </thead>\n",
       "  <tbody>\n",
       "    <tr>\n",
       "      <th>count</th>\n",
       "      <td>4393.000000</td>\n",
       "      <td>4393.000000</td>\n",
       "      <td>4393.000000</td>\n",
       "      <td>4393.000000</td>\n",
       "      <td>4393.000000</td>\n",
       "    </tr>\n",
       "    <tr>\n",
       "      <th>mean</th>\n",
       "      <td>2002.516504</td>\n",
       "      <td>6.784885</td>\n",
       "      <td>25.156681</td>\n",
       "      <td>33.099882</td>\n",
       "      <td>4.273048</td>\n",
       "    </tr>\n",
       "    <tr>\n",
       "      <th>std</th>\n",
       "      <td>11.759090</td>\n",
       "      <td>3.369061</td>\n",
       "      <td>41.037754</td>\n",
       "      <td>2.894154</td>\n",
       "      <td>11.235051</td>\n",
       "    </tr>\n",
       "    <tr>\n",
       "      <th>min</th>\n",
       "      <td>1985.000000</td>\n",
       "      <td>1.000000</td>\n",
       "      <td>0.000000</td>\n",
       "      <td>23.700000</td>\n",
       "      <td>0.000000</td>\n",
       "    </tr>\n",
       "    <tr>\n",
       "      <th>25%</th>\n",
       "      <td>1992.000000</td>\n",
       "      <td>4.000000</td>\n",
       "      <td>0.500000</td>\n",
       "      <td>31.300000</td>\n",
       "      <td>0.100000</td>\n",
       "    </tr>\n",
       "    <tr>\n",
       "      <th>50%</th>\n",
       "      <td>2001.000000</td>\n",
       "      <td>7.000000</td>\n",
       "      <td>7.300000</td>\n",
       "      <td>33.070000</td>\n",
       "      <td>0.400000</td>\n",
       "    </tr>\n",
       "    <tr>\n",
       "      <th>75%</th>\n",
       "      <td>2014.000000</td>\n",
       "      <td>10.000000</td>\n",
       "      <td>32.500000</td>\n",
       "      <td>34.900000</td>\n",
       "      <td>3.500000</td>\n",
       "    </tr>\n",
       "    <tr>\n",
       "      <th>max</th>\n",
       "      <td>2020.000000</td>\n",
       "      <td>12.000000</td>\n",
       "      <td>404.800000</td>\n",
       "      <td>43.750000</td>\n",
       "      <td>114.600000</td>\n",
       "    </tr>\n",
       "  </tbody>\n",
       "</table>\n",
       "</div>"
      ],
      "text/plain": [
       "         STARTYEAR   STARTMONTH          PPT         TMAX  SOILMOISTURE\n",
       "count  4393.000000  4393.000000  4393.000000  4393.000000   4393.000000\n",
       "mean   2002.516504     6.784885    25.156681    33.099882      4.273048\n",
       "std      11.759090     3.369061    41.037754     2.894154     11.235051\n",
       "min    1985.000000     1.000000     0.000000    23.700000      0.000000\n",
       "25%    1992.000000     4.000000     0.500000    31.300000      0.100000\n",
       "50%    2001.000000     7.000000     7.300000    33.070000      0.400000\n",
       "75%    2014.000000    10.000000    32.500000    34.900000      3.500000\n",
       "max    2020.000000    12.000000   404.800000    43.750000    114.600000"
      ]
     },
     "execution_count": 35,
     "metadata": {},
     "output_type": "execute_result"
    }
   ],
   "source": [
    "# Generate summary statistics\n",
    "somalia_df.describe()"
   ]
  },
  {
   "cell_type": "markdown",
   "id": "77e88e77",
   "metadata": {},
   "source": [
    "#### Insight:\n",
    "- We can check the distributions of numerical variables.\n",
    "- Any anomalies in data ranges can be identified here."
   ]
  },
  {
   "cell_type": "markdown",
   "id": "0d96c1a2",
   "metadata": {},
   "source": [
    "### 2.2 Check for Missing Values"
   ]
  },
  {
   "cell_type": "code",
   "execution_count": 37,
   "id": "a337e684",
   "metadata": {},
   "outputs": [
    {
     "data": {
      "text/plain": [
       "REGION           0\n",
       "COUNTRYNAME      0\n",
       "STARTYEAR        0\n",
       "STARTMONTH       0\n",
       "PPT              0\n",
       "TMAX             0\n",
       "SOILMOISTURE     0\n",
       "LOCUSTPRESENT    0\n",
       "dtype: int64"
      ]
     },
     "execution_count": 37,
     "metadata": {},
     "output_type": "execute_result"
    }
   ],
   "source": [
    "# Check for missing values\n",
    "df_somalia.isnull().sum()"
   ]
  },
  {
   "cell_type": "markdown",
   "id": "45fff817",
   "metadata": {},
   "source": [
    "#### Insight:\n",
    "- Identifies missing values that need to be handled before modeling.\n",
    "- Necessary imputation strategies can be applied."
   ]
  },
  {
   "cell_type": "markdown",
   "id": "03b720e6",
   "metadata": {},
   "source": [
    "### 2.3 Visualizing Distributions & Correlations"
   ]
  },
  {
   "cell_type": "code",
   "execution_count": 39,
   "id": "ae5a6076",
   "metadata": {},
   "outputs": [
    {
     "data": {
      "image/png": "[encoded data removed]",
      "text/plain": [
       "<Figure size 1000x600 with 6 Axes>"
      ]
     },
     "metadata": {},
     "output_type": "display_data"
    },
    {
     "ename": "ValueError",
     "evalue": "could not convert string to float: 'Woqooyi Galbeed'",
     "output_type": "error",
     "traceback": [
      "\u001b[1;31m---------------------------------------------------------------------------\u001b[0m",
      "\u001b[1;31mValueError\u001b[0m                                Traceback (most recent call last)",
      "Cell \u001b[1;32mIn[39], line 10\u001b[0m\n\u001b[0;32m      8\u001b[0m \u001b[38;5;66;03m# Correlation heatmap\u001b[39;00m\n\u001b[0;32m      9\u001b[0m plt\u001b[38;5;241m.\u001b[39mfigure(figsize\u001b[38;5;241m=\u001b[39m(\u001b[38;5;241m8\u001b[39m, \u001b[38;5;241m5\u001b[39m))\n\u001b[1;32m---> 10\u001b[0m sns\u001b[38;5;241m.\u001b[39mheatmap(df_somalia\u001b[38;5;241m.\u001b[39mcorr(), annot\u001b[38;5;241m=\u001b[39m\u001b[38;5;28;01mTrue\u001b[39;00m, cmap\u001b[38;5;241m=\u001b[39m\u001b[38;5;124m'\u001b[39m\u001b[38;5;124mcoolwarm\u001b[39m\u001b[38;5;124m'\u001b[39m, fmt\u001b[38;5;241m=\u001b[39m\u001b[38;5;124m\"\u001b[39m\u001b[38;5;124m.2f\u001b[39m\u001b[38;5;124m\"\u001b[39m)\n\u001b[0;32m     11\u001b[0m plt\u001b[38;5;241m.\u001b[39mtitle(\u001b[38;5;124m\"\u001b[39m\u001b[38;5;124mFeature Correlation Matrix\u001b[39m\u001b[38;5;124m\"\u001b[39m)\n\u001b[0;32m     12\u001b[0m plt\u001b[38;5;241m.\u001b[39mshow()\n",
      "File \u001b[1;32m~\\anaconda3\\Lib\\site-packages\\pandas\\core\\frame.py:11049\u001b[0m, in \u001b[0;36mDataFrame.corr\u001b[1;34m(self, method, min_periods, numeric_only)\u001b[0m\n\u001b[0;32m  11047\u001b[0m cols \u001b[38;5;241m=\u001b[39m data\u001b[38;5;241m.\u001b[39mcolumns\n\u001b[0;32m  11048\u001b[0m idx \u001b[38;5;241m=\u001b[39m cols\u001b[38;5;241m.\u001b[39mcopy()\n\u001b[1;32m> 11049\u001b[0m mat \u001b[38;5;241m=\u001b[39m data\u001b[38;5;241m.\u001b[39mto_numpy(dtype\u001b[38;5;241m=\u001b[39m\u001b[38;5;28mfloat\u001b[39m, na_value\u001b[38;5;241m=\u001b[39mnp\u001b[38;5;241m.\u001b[39mnan, copy\u001b[38;5;241m=\u001b[39m\u001b[38;5;28;01mFalse\u001b[39;00m)\n\u001b[0;32m  11051\u001b[0m \u001b[38;5;28;01mif\u001b[39;00m method \u001b[38;5;241m==\u001b[39m \u001b[38;5;124m\"\u001b[39m\u001b[38;5;124mpearson\u001b[39m\u001b[38;5;124m\"\u001b[39m:\n\u001b[0;32m  11052\u001b[0m     correl \u001b[38;5;241m=\u001b[39m libalgos\u001b[38;5;241m.\u001b[39mnancorr(mat, minp\u001b[38;5;241m=\u001b[39mmin_periods)\n",
      "File \u001b[1;32m~\\anaconda3\\Lib\\site-packages\\pandas\\core\\frame.py:1993\u001b[0m, in \u001b[0;36mDataFrame.to_numpy\u001b[1;34m(self, dtype, copy, na_value)\u001b[0m\n\u001b[0;32m   1991\u001b[0m \u001b[38;5;28;01mif\u001b[39;00m dtype \u001b[38;5;129;01mis\u001b[39;00m \u001b[38;5;129;01mnot\u001b[39;00m \u001b[38;5;28;01mNone\u001b[39;00m:\n\u001b[0;32m   1992\u001b[0m     dtype \u001b[38;5;241m=\u001b[39m np\u001b[38;5;241m.\u001b[39mdtype(dtype)\n\u001b[1;32m-> 1993\u001b[0m result \u001b[38;5;241m=\u001b[39m \u001b[38;5;28mself\u001b[39m\u001b[38;5;241m.\u001b[39m_mgr\u001b[38;5;241m.\u001b[39mas_array(dtype\u001b[38;5;241m=\u001b[39mdtype, copy\u001b[38;5;241m=\u001b[39mcopy, na_value\u001b[38;5;241m=\u001b[39mna_value)\n\u001b[0;32m   1994\u001b[0m \u001b[38;5;28;01mif\u001b[39;00m result\u001b[38;5;241m.\u001b[39mdtype \u001b[38;5;129;01mis\u001b[39;00m \u001b[38;5;129;01mnot\u001b[39;00m dtype:\n\u001b[0;32m   1995\u001b[0m     result \u001b[38;5;241m=\u001b[39m np\u001b[38;5;241m.\u001b[39masarray(result, dtype\u001b[38;5;241m=\u001b[39mdtype)\n",
      "File \u001b[1;32m~\\anaconda3\\Lib\\site-packages\\pandas\\core\\internals\\managers.py:1694\u001b[0m, in \u001b[0;36mBlockManager.as_array\u001b[1;34m(self, dtype, copy, na_value)\u001b[0m\n\u001b[0;32m   1692\u001b[0m         arr\u001b[38;5;241m.\u001b[39mflags\u001b[38;5;241m.\u001b[39mwriteable \u001b[38;5;241m=\u001b[39m \u001b[38;5;28;01mFalse\u001b[39;00m\n\u001b[0;32m   1693\u001b[0m \u001b[38;5;28;01melse\u001b[39;00m:\n\u001b[1;32m-> 1694\u001b[0m     arr \u001b[38;5;241m=\u001b[39m \u001b[38;5;28mself\u001b[39m\u001b[38;5;241m.\u001b[39m_interleave(dtype\u001b[38;5;241m=\u001b[39mdtype, na_value\u001b[38;5;241m=\u001b[39mna_value)\n\u001b[0;32m   1695\u001b[0m     \u001b[38;5;66;03m# The underlying data was copied within _interleave, so no need\u001b[39;00m\n\u001b[0;32m   1696\u001b[0m     \u001b[38;5;66;03m# to further copy if copy=True or setting na_value\u001b[39;00m\n\u001b[0;32m   1698\u001b[0m \u001b[38;5;28;01mif\u001b[39;00m na_value \u001b[38;5;129;01mis\u001b[39;00m lib\u001b[38;5;241m.\u001b[39mno_default:\n",
      "File \u001b[1;32m~\\anaconda3\\Lib\\site-packages\\pandas\\core\\internals\\managers.py:1753\u001b[0m, in \u001b[0;36mBlockManager._interleave\u001b[1;34m(self, dtype, na_value)\u001b[0m\n\u001b[0;32m   1751\u001b[0m     \u001b[38;5;28;01melse\u001b[39;00m:\n\u001b[0;32m   1752\u001b[0m         arr \u001b[38;5;241m=\u001b[39m blk\u001b[38;5;241m.\u001b[39mget_values(dtype)\n\u001b[1;32m-> 1753\u001b[0m     result[rl\u001b[38;5;241m.\u001b[39mindexer] \u001b[38;5;241m=\u001b[39m arr\n\u001b[0;32m   1754\u001b[0m     itemmask[rl\u001b[38;5;241m.\u001b[39mindexer] \u001b[38;5;241m=\u001b[39m \u001b[38;5;241m1\u001b[39m\n\u001b[0;32m   1756\u001b[0m \u001b[38;5;28;01mif\u001b[39;00m \u001b[38;5;129;01mnot\u001b[39;00m itemmask\u001b[38;5;241m.\u001b[39mall():\n",
      "\u001b[1;31mValueError\u001b[0m: could not convert string to float: 'Woqooyi Galbeed'"
     ]
    },
    {
     "data": {
      "text/plain": [
       "<Figure size 800x500 with 0 Axes>"
      ]
     },
     "metadata": {},
     "output_type": "display_data"
    }
   ],
   "source": [
    "import matplotlib.pyplot as plt\n",
    "import seaborn as sns\n",
    "\n",
    "# Plot histograms\n",
    "df_somalia.hist(figsize=(10, 6), bins=20)\n",
    "plt.show()\n",
    "\n",
    "# Correlation heatmap\n",
    "plt.figure(figsize=(8, 5))\n",
    "sns.heatmap(df_somalia.corr(), annot=True, cmap='coolwarm', fmt=\".2f\")\n",
    "plt.title(\"Feature Correlation Matrix\")\n",
    "plt.show()"
   ]
  },
  {
   "cell_type": "markdown",
   "id": "49d63dd9",
   "metadata": {},
   "source": [
    "#### Insight:\n",
    "- Helps identify how features are distributed.\n",
    "- Correlation analysis shows relationships between variables."
   ]
  },
  {
   "cell_type": "markdown",
   "id": "6cf7de67",
   "metadata": {},
   "source": [
    "## 3. Model Training"
   ]
  },
  {
   "cell_type": "markdown",
   "id": "d5f2b6fd",
   "metadata": {},
   "source": [
    "### 3.1 Prepare Features and Target Variable"
   ]
  },
  {
   "cell_type": "code",
   "execution_count": 41,
   "id": "97377b93",
   "metadata": {},
   "outputs": [],
   "source": [
    "from sklearn.model_selection import train_test_split\n",
    "from sklearn.preprocessing import LabelEncoder\n",
    "\n",
    "# Encode target variable\n",
    "label_encoder = LabelEncoder()\n",
    "df_somalia['LOCUSTPRESENT'] = label_encoder.fit_transform(df_somalia['LOCUSTPRESENT'])\n",
    "\n",
    "# Select features and target\n",
    "X = df_somalia.drop(columns=['LOCUSTPRESENT', 'COUNTRYNAME', 'REGION'])\n",
    "y = df_somalia['LOCUSTPRESENT']\n",
    "\n",
    "# Split dataset\n",
    "X_train, X_test, y_train, y_test = train_test_split(X, y, test_size=0.2, random_state=42)"
   ]
  },
  {
   "cell_type": "markdown",
   "id": "689eca14",
   "metadata": {},
   "source": [
    "#### Insight:\n",
    "- Selected climate variables as features.\n",
    "- The target variable is encoded for machine learning models."
   ]
  },
  {
   "cell_type": "markdown",
   "id": "5cce6afc",
   "metadata": {},
   "source": [
    "### 3.x Train Logistic Regression"
   ]
  },
  {
   "cell_type": "code",
   "execution_count": 62,
   "id": "50706039",
   "metadata": {},
   "outputs": [
    {
     "name": "stderr",
     "output_type": "stream",
     "text": [
      "C:\\Users\\Ahmad\\anaconda3\\Lib\\site-packages\\sklearn\\linear_model\\_logistic.py:469: ConvergenceWarning: lbfgs failed to converge (status=1):\n",
      "STOP: TOTAL NO. of ITERATIONS REACHED LIMIT.\n",
      "\n",
      "Increase the number of iterations (max_iter) or scale the data as shown in:\n",
      "    https://scikit-learn.org/stable/modules/preprocessing.html\n",
      "Please also refer to the documentation for alternative solver options:\n",
      "    https://scikit-learn.org/stable/modules/linear_model.html#logistic-regression\n",
      "  n_iter_i = _check_optimize_result(\n"
     ]
    },
    {
     "data": {
      "text/plain": [
       "array([1, 1, 0, 0, 1, 0, 1, 0, 0, 0])"
      ]
     },
     "execution_count": 62,
     "metadata": {},
     "output_type": "execute_result"
    }
   ],
   "source": [
    "from sklearn.linear_model import LogisticRegression\n",
    "model = LogisticRegression()\n",
    "\n",
    "# Train model\n",
    "model.fit(X_train, y_train)\n",
    "\n",
    "# Predictions\n",
    "y_pred = model.predict(X_test)\n",
    "\n",
    "# Display results\n",
    "y_pred[:10]"
   ]
  },
  {
   "cell_type": "markdown",
   "id": "efb00d41",
   "metadata": {},
   "source": [
    "#### Insight:\n",
    "- Logistic Regression model trained successfully.\n",
    "- Displays first 10 predicted values."
   ]
  },
  {
   "cell_type": "markdown",
   "id": "8f906a08",
   "metadata": {},
   "source": [
    "### 3.x Train Random Forest"
   ]
  },
  {
   "cell_type": "code",
   "execution_count": 47,
   "id": "ad32ca11",
   "metadata": {},
   "outputs": [
    {
     "data": {
      "text/plain": [
       "array([1, 1, 0, 0, 1, 0, 1, 0, 0, 0])"
      ]
     },
     "execution_count": 47,
     "metadata": {},
     "output_type": "execute_result"
    }
   ],
   "source": [
    "from sklearn.ensemble import RandomForestClassifier\n",
    "model = RandomForestClassifier(n_estimators=100)\n",
    "\n",
    "# Train model\n",
    "model.fit(X_train, y_train)\n",
    "\n",
    "# Predictions\n",
    "y_pred = model.predict(X_test)\n",
    "\n",
    "# Display results\n",
    "y_pred[:10]"
   ]
  },
  {
   "cell_type": "markdown",
   "id": "c242093c",
   "metadata": {},
   "source": [
    "#### Insight:\n",
    "- Random Forest model trained successfully.\n",
    "- Displays first 10 predicted values."
   ]
  },
  {
   "cell_type": "markdown",
   "id": "9b4b5689",
   "metadata": {},
   "source": [
    "### 3.x Train SVM"
   ]
  },
  {
   "cell_type": "code",
   "execution_count": 54,
   "id": "363785a8",
   "metadata": {},
   "outputs": [
    {
     "data": {
      "text/plain": [
       "array([0, 0, 0, 0, 0, 0, 0, 0, 0, 0])"
      ]
     },
     "execution_count": 54,
     "metadata": {},
     "output_type": "execute_result"
    }
   ],
   "source": [
    "from sklearn.svm import SVC\n",
    "model = SVC()\n",
    "\n",
    "# Train model\n",
    "model.fit(X_train, y_train)\n",
    "\n",
    "# Predictions\n",
    "y_pred = model.predict(X_test)\n",
    "\n",
    "# Display results\n",
    "y_pred[:10]"
   ]
  },
  {
   "cell_type": "markdown",
   "id": "d5c928d5",
   "metadata": {},
   "source": [
    "#### Insight:\n",
    "- SVM model trained successfully.\n",
    "- Displays first 10 predicted values."
   ]
  },
  {
   "cell_type": "markdown",
   "id": "9fa9ee66",
   "metadata": {},
   "source": [
    "### 3.x Train KNN"
   ]
  },
  {
   "cell_type": "code",
   "execution_count": 56,
   "id": "8fb6f9f4",
   "metadata": {},
   "outputs": [
    {
     "data": {
      "text/plain": [
       "array([1, 1, 0, 0, 1, 0, 1, 0, 0, 0])"
      ]
     },
     "execution_count": 56,
     "metadata": {},
     "output_type": "execute_result"
    }
   ],
   "source": [
    "from sklearn.neighbors import KNeighborsClassifier\n",
    "model = KNeighborsClassifier(n_neighbors=5)\n",
    "\n",
    "# Train model\n",
    "model.fit(X_train, y_train)\n",
    "\n",
    "# Predictions\n",
    "y_pred = model.predict(X_test)\n",
    "\n",
    "# Display results\n",
    "y_pred[:10]"
   ]
  },
  {
   "cell_type": "markdown",
   "id": "ac998887",
   "metadata": {},
   "source": [
    "#### Insight:\n",
    "- KNN model trained successfully.\n",
    "- Displays first 10 predicted values."
   ]
  },
  {
   "cell_type": "markdown",
   "id": "e50f8c5b",
   "metadata": {},
   "source": [
    "### 3.x Train Decision Tree"
   ]
  },
  {
   "cell_type": "code",
   "execution_count": 58,
   "id": "8ad1f6e9",
   "metadata": {},
   "outputs": [
    {
     "data": {
      "text/plain": [
       "array([1, 1, 0, 0, 1, 0, 1, 0, 0, 0])"
      ]
     },
     "execution_count": 58,
     "metadata": {},
     "output_type": "execute_result"
    }
   ],
   "source": [
    "from sklearn.tree import DecisionTreeClassifier\n",
    "model = DecisionTreeClassifier()\n",
    "\n",
    "# Train model\n",
    "model.fit(X_train, y_train)\n",
    "\n",
    "# Predictions\n",
    "y_pred = model.predict(X_test)\n",
    "\n",
    "# Display results\n",
    "y_pred[:10]"
   ]
  },
  {
   "cell_type": "markdown",
   "id": "14adcb23",
   "metadata": {},
   "source": [
    "#### Insight:\n",
    "- Decision Tree model trained successfully.\n",
    "- Displays first 10 predicted values."
   ]
  },
  {
   "cell_type": "markdown",
   "id": "aac7dca0",
   "metadata": {},
   "source": [
    "## 4. Model Evaluation"
   ]
  },
  {
   "cell_type": "markdown",
   "id": "d94459a3",
   "metadata": {},
   "source": [
    "### 4.1 Model Performance Evaluation"
   ]
  },
  {
   "cell_type": "code",
   "execution_count": 60,
   "id": "16d59b9d",
   "metadata": {},
   "outputs": [
    {
     "ename": "NameError",
     "evalue": "name 'models' is not defined",
     "output_type": "error",
     "traceback": [
      "\u001b[1;31m---------------------------------------------------------------------------\u001b[0m",
      "\u001b[1;31mNameError\u001b[0m                                 Traceback (most recent call last)",
      "Cell \u001b[1;32mIn[60], line 5\u001b[0m\n\u001b[0;32m      3\u001b[0m \u001b[38;5;66;03m# Evaluate all models\u001b[39;00m\n\u001b[0;32m      4\u001b[0m models_evaluations \u001b[38;5;241m=\u001b[39m {}\n\u001b[1;32m----> 5\u001b[0m \u001b[38;5;28;01mfor\u001b[39;00m name, model_code \u001b[38;5;129;01min\u001b[39;00m models\u001b[38;5;241m.\u001b[39mitems():\n\u001b[0;32m      6\u001b[0m     exec(model_code)  \u001b[38;5;66;03m# Execute model definition\u001b[39;00m\n\u001b[0;32m      7\u001b[0m     model\u001b[38;5;241m.\u001b[39mfit(X_train, y_train)  \u001b[38;5;66;03m# Train model\u001b[39;00m\n",
      "\u001b[1;31mNameError\u001b[0m: name 'models' is not defined"
     ]
    }
   ],
   "source": [
    "from sklearn.metrics import classification_report, accuracy_score\n",
    "\n",
    "# Evaluate all models\n",
    "models_evaluations = {}\n",
    "for name, model_code in models.items():\n",
    "    exec(model_code)  # Execute model definition\n",
    "    model.fit(X_train, y_train)  # Train model\n",
    "    y_pred = model.predict(X_test)  # Predict\n",
    "    acc = accuracy_score(y_test, y_pred)  # Compute accuracy\n",
    "    report = classification_report(y_test, y_pred)  # Classification report\n",
    "    models_evaluations[name] = {\"Accuracy\": acc, \"Report\": report}\n",
    "\n",
    "# Display results\n",
    "models_evaluations"
   ]
  },
  {
   "cell_type": "markdown",
   "id": "6dc1d05d",
   "metadata": {},
   "source": [
    "#### Insight:\n",
    "- Shows accuracy scores and classification reports for all models.\n",
    "- Helps in selecting the best-performing model."
   ]
  }
 ],
 "metadata": {
  "kernelspec": {
   "display_name": "Python 3 (ipykernel)",
   "language": "python",
   "name": "python3"
  },
  "language_info": {
   "codemirror_mode": {
    "name": "ipython",
    "version": 3
   },
   "file_extension": ".py",
   "mimetype": "text/x-python",
   "name": "python",
   "nbconvert_exporter": "python",
   "pygments_lexer": "ipython3",
   "version": "3.12.4"
  }
 },
 "nbformat": 4,
 "nbformat_minor": 5
}
